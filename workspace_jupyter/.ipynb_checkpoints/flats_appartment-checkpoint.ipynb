version https://git-lfs.github.com/spec/v1
oid sha256:a0571cd9470d4ba0408d9910d975d55cf8448d2fe52cd49a6ec7b83035228bcc
size 53192
